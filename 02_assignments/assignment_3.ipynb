{
 "cells": [
  {
   "cell_type": "markdown",
   "id": "7b0bcac6-5086-4f4e-928a-570a9ff7ae58",
   "metadata": {},
   "source": [
    "# Assignment 3"
   ]
  },
  {
   "cell_type": "markdown",
   "id": "5fce0350-2a17-4e93-8d4c-0b8748fdfc32",
   "metadata": {},
   "source": [
    "As before, if a question can be answered with 'yes/no', or a numeric value, you may simply state as much. If you incorporate code from the internet (which is not required and generally not advisable), please cite the source within your code (providing a URL is sufficient).\n",
    "\n",
    "We will go through comparable code and concepts in the live learning session. If you run into trouble, start by using the help `help()` function in Python, to get information about the datasets and function in question. The internet is also a great resource when coding (though note that no outside searches are required by the assignment!). If you do incorporate code from the internet, please cite the source within your code (providing a URL is sufficient).\n",
    "\n",
    "Please bring questions that you cannot work out on your own to office hours, work periods or share with your peers on Slack. We will work with you through the issue."
   ]
  },
  {
   "cell_type": "code",
   "execution_count": 7,
   "id": "b92f7c91",
   "metadata": {},
   "outputs": [],
   "source": [
    "import numpy as np\n",
    "import pandas as pd\n",
    "import matplotlib.pyplot as plt\n",
    "import statsmodels.api as sm"
   ]
  },
  {
   "cell_type": "markdown",
   "id": "d7fff1dd-e4ce-4a60-96a0-d08136e9bf5e",
   "metadata": {},
   "source": [
    "### Question 1: Resampling via Bootstrapping\n",
    "\n",
    "Now, we'll use the `iris` dataset, which we will add to Python using the `statsmodels` library. As always, start by reviewing a description of the dataset, by printing the dataset."
   ]
  },
  {
   "cell_type": "code",
   "execution_count": 101,
   "id": "47f4dcf5-0d4c-41ea-892d-d9f2c1aa1859",
   "metadata": {},
   "outputs": [
    {
     "data": {
      "text/html": [
       "<div>\n",
       "<style scoped>\n",
       "    .dataframe tbody tr th:only-of-type {\n",
       "        vertical-align: middle;\n",
       "    }\n",
       "\n",
       "    .dataframe tbody tr th {\n",
       "        vertical-align: top;\n",
       "    }\n",
       "\n",
       "    .dataframe thead th {\n",
       "        text-align: right;\n",
       "    }\n",
       "</style>\n",
       "<table border=\"1\" class=\"dataframe\">\n",
       "  <thead>\n",
       "    <tr style=\"text-align: right;\">\n",
       "      <th></th>\n",
       "      <th>Sepal.Length</th>\n",
       "      <th>Sepal.Width</th>\n",
       "      <th>Petal.Length</th>\n",
       "      <th>Petal.Width</th>\n",
       "      <th>Species</th>\n",
       "    </tr>\n",
       "  </thead>\n",
       "  <tbody>\n",
       "    <tr>\n",
       "      <th>0</th>\n",
       "      <td>5.1</td>\n",
       "      <td>3.5</td>\n",
       "      <td>1.4</td>\n",
       "      <td>0.2</td>\n",
       "      <td>setosa</td>\n",
       "    </tr>\n",
       "    <tr>\n",
       "      <th>1</th>\n",
       "      <td>4.9</td>\n",
       "      <td>3.0</td>\n",
       "      <td>1.4</td>\n",
       "      <td>0.2</td>\n",
       "      <td>setosa</td>\n",
       "    </tr>\n",
       "    <tr>\n",
       "      <th>2</th>\n",
       "      <td>4.7</td>\n",
       "      <td>3.2</td>\n",
       "      <td>1.3</td>\n",
       "      <td>0.2</td>\n",
       "      <td>setosa</td>\n",
       "    </tr>\n",
       "    <tr>\n",
       "      <th>3</th>\n",
       "      <td>4.6</td>\n",
       "      <td>3.1</td>\n",
       "      <td>1.5</td>\n",
       "      <td>0.2</td>\n",
       "      <td>setosa</td>\n",
       "    </tr>\n",
       "    <tr>\n",
       "      <th>4</th>\n",
       "      <td>5.0</td>\n",
       "      <td>3.6</td>\n",
       "      <td>1.4</td>\n",
       "      <td>0.2</td>\n",
       "      <td>setosa</td>\n",
       "    </tr>\n",
       "    <tr>\n",
       "      <th>...</th>\n",
       "      <td>...</td>\n",
       "      <td>...</td>\n",
       "      <td>...</td>\n",
       "      <td>...</td>\n",
       "      <td>...</td>\n",
       "    </tr>\n",
       "    <tr>\n",
       "      <th>145</th>\n",
       "      <td>6.7</td>\n",
       "      <td>3.0</td>\n",
       "      <td>5.2</td>\n",
       "      <td>2.3</td>\n",
       "      <td>virginica</td>\n",
       "    </tr>\n",
       "    <tr>\n",
       "      <th>146</th>\n",
       "      <td>6.3</td>\n",
       "      <td>2.5</td>\n",
       "      <td>5.0</td>\n",
       "      <td>1.9</td>\n",
       "      <td>virginica</td>\n",
       "    </tr>\n",
       "    <tr>\n",
       "      <th>147</th>\n",
       "      <td>6.5</td>\n",
       "      <td>3.0</td>\n",
       "      <td>5.2</td>\n",
       "      <td>2.0</td>\n",
       "      <td>virginica</td>\n",
       "    </tr>\n",
       "    <tr>\n",
       "      <th>148</th>\n",
       "      <td>6.2</td>\n",
       "      <td>3.4</td>\n",
       "      <td>5.4</td>\n",
       "      <td>2.3</td>\n",
       "      <td>virginica</td>\n",
       "    </tr>\n",
       "    <tr>\n",
       "      <th>149</th>\n",
       "      <td>5.9</td>\n",
       "      <td>3.0</td>\n",
       "      <td>5.1</td>\n",
       "      <td>1.8</td>\n",
       "      <td>virginica</td>\n",
       "    </tr>\n",
       "  </tbody>\n",
       "</table>\n",
       "<p>150 rows × 5 columns</p>\n",
       "</div>"
      ],
      "text/plain": [
       "     Sepal.Length  Sepal.Width  Petal.Length  Petal.Width    Species\n",
       "0             5.1          3.5           1.4          0.2     setosa\n",
       "1             4.9          3.0           1.4          0.2     setosa\n",
       "2             4.7          3.2           1.3          0.2     setosa\n",
       "3             4.6          3.1           1.5          0.2     setosa\n",
       "4             5.0          3.6           1.4          0.2     setosa\n",
       "..            ...          ...           ...          ...        ...\n",
       "145           6.7          3.0           5.2          2.3  virginica\n",
       "146           6.3          2.5           5.0          1.9  virginica\n",
       "147           6.5          3.0           5.2          2.0  virginica\n",
       "148           6.2          3.4           5.4          2.3  virginica\n",
       "149           5.9          3.0           5.1          1.8  virginica\n",
       "\n",
       "[150 rows x 5 columns]"
      ]
     },
     "execution_count": 101,
     "metadata": {},
     "output_type": "execute_result"
    }
   ],
   "source": [
    "# Import\n",
    "iris = sm.datasets.get_rdataset('iris', 'datasets')\n",
    "df = pd.DataFrame(iris.data)\n",
    "\n",
    "df"
   ]
  },
  {
   "cell_type": "markdown",
   "id": "7717a32c",
   "metadata": {},
   "source": [
    "_(i)_ Create an `alpha_func(D, idx)` function which takes the `Sepal`'s `width` and `length` to calculate for alpha"
   ]
  },
  {
   "cell_type": "code",
   "execution_count": 102,
   "id": "f3da5483",
   "metadata": {},
   "outputs": [],
   "source": [
    "# Your code here\n",
    "\n",
    "def alpha_func(df, idx):\n",
    "   cov_ = np.cov(df[['Sepal.Width','Sepal.Length']].loc[idx], rowvar=False) # https://numpy.org/doc/stable/reference/generated/numpy.cov.html\n",
    "   # Covariance indicates the level to which two variables vary together. \n",
    "   return ((cov_[1,1] - cov_[0,1]) /\n",
    "           (cov_[0,0]+cov_[1,1]-2*cov_[0,1]))"
   ]
  },
  {
   "cell_type": "markdown",
   "id": "ff94d66b",
   "metadata": {},
   "source": [
    "Test the code below"
   ]
  },
  {
   "cell_type": "code",
   "execution_count": 103,
   "id": "eda715cd",
   "metadata": {},
   "outputs": [
    {
     "data": {
      "text/plain": [
       "0.6189498510165619"
      ]
     },
     "execution_count": 103,
     "metadata": {},
     "output_type": "execute_result"
    }
   ],
   "source": [
    "alpha_func(df, range(100))"
   ]
  },
  {
   "cell_type": "markdown",
   "id": "f338b14e",
   "metadata": {},
   "source": [
    "_(ii)_ Construct a new bootstrap data set and recompute alpha"
   ]
  },
  {
   "cell_type": "code",
   "execution_count": 121,
   "id": "34ee835f",
   "metadata": {},
   "outputs": [
    {
     "data": {
      "text/plain": [
       "0.6675354865158227"
      ]
     },
     "execution_count": 121,
     "metadata": {},
     "output_type": "execute_result"
    }
   ],
   "source": [
    "rng = np.random.default_rng(0)\n",
    "alpha_func(df,\n",
    "           rng.choice(100,\n",
    "                      100,\n",
    "                      replace=True))\n",
    "\n"
   ]
  },
  {
   "cell_type": "markdown",
   "id": "056080ff-7aec-41aa-bb61-763b390e4cf2",
   "metadata": {},
   "source": [
    "Imagine we are analysts working for a shipping company. The company wants to know the average length of iris' petals, to inform space allotment on an upcoming shipment. The relevant variable in the dataset is `Sepal.Length`. \n",
    "\n",
    "_(iii)_ Why is it (perhaps) not sufficient to simply calculate the mean of `Sepal.Length`? What more information will preforming a bootstrap provide to us?  \n",
    "\n",
    "_(iv)_ We can perform bootstrapping in Python by defining a simple function using `boot_SE()` for computing the bootstrap standard error. Remember, because bootstrapping involves randomness, we must first set a seed for reproducibility!"
   ]
  },
  {
   "cell_type": "markdown",
   "id": "900c0e12",
   "metadata": {},
   "source": [
    "# Answer\n",
    "\n",
    "(iii)\n",
    "There are only 150 samples, the observations are not sufficient to calculate the mean of Sepal.Length.\n",
    "Bootstrapping can be particularly helpful for small sample sizes where traditional methods may not be reliable. By resampling, we can generate more data points to better understand the sampling variability.\n"
   ]
  },
  {
   "cell_type": "code",
   "execution_count": 122,
   "id": "77540f76-7747-4dba-8e77-e1ded54af536",
   "metadata": {},
   "outputs": [],
   "source": [
    "# Add your code here to set the seed\n",
    "bootstrap_values = []\n",
    "\n",
    "def boot_SE(df, B=1000, seed=0):\n",
    "    rng = np.random.default_rng(seed)\n",
    "    # first_, second_ = 0, 0\n",
    "    n = df.shape[0]\n",
    "    for i in range(B):\n",
    "        idx = rng.choice(df.index,\n",
    "                         n,\n",
    "                         replace=True)\n",
    "        value = alpha_func(df, idx)\n",
    "        bootstrap_values.append(value)\n",
    "        \n",
    "    return np.std(np.array(bootstrap_values))"
   ]
  },
  {
   "cell_type": "markdown",
   "id": "8a543472",
   "metadata": {},
   "source": [
    "_(v)_ Evaluate the accuracy of our alpha estimate with B = 1000"
   ]
  },
  {
   "cell_type": "markdown",
   "id": "f0722b92",
   "metadata": {},
   "source": [
    "## Answer\n",
    "\n",
    "(v)\n",
    "The variance of the alpha is 0.03180510076860766"
   ]
  },
  {
   "cell_type": "code",
   "execution_count": 123,
   "id": "9ed41c4e",
   "metadata": {},
   "outputs": [
    {
     "data": {
      "text/plain": [
       "0.03180510076860766"
      ]
     },
     "execution_count": 123,
     "metadata": {},
     "output_type": "execute_result"
    }
   ],
   "source": [
    "# Your code here\n",
    "\n",
    "alpha_SE = boot_SE(df,\n",
    "                   B=1000,\n",
    "                   seed=0)\n",
    "alpha_SE"
   ]
  },
  {
   "cell_type": "markdown",
   "id": "2e5e0c7f",
   "metadata": {},
   "source": [
    "_(vi)_ What is the original mean value of `Sepal.Length`?"
   ]
  },
  {
   "cell_type": "markdown",
   "id": "11f9194c",
   "metadata": {},
   "source": [
    "# Answer\n",
    "\n",
    "(vi)\n",
    "The original mean value of Sepal.Length is 5.843333333333334."
   ]
  },
  {
   "cell_type": "code",
   "execution_count": 107,
   "id": "7c9d5004",
   "metadata": {},
   "outputs": [
    {
     "data": {
      "text/plain": [
       "5.843333333333334"
      ]
     },
     "execution_count": 107,
     "metadata": {},
     "output_type": "execute_result"
    }
   ],
   "source": [
    "# Your code here\n",
    "\n",
    "df.loc[:, 'Sepal.Length'].mean()\n"
   ]
  },
  {
   "cell_type": "markdown",
   "id": "785fe758-f395-40b6-a9a3-28ec2efeba29",
   "metadata": {},
   "source": [
    "Next, let's create a new bootstrapping to bootstrap samples (`boot_se_samples`) of `Sepal.Length`, in order to compute its bootstrapped mean and standard deviation.\n",
    "\n",
    "_(vii)_. Write code to review the bootstrapped mean value, and the standard deviation of the bootstrapped samples. Compare the mean against its original value. Then, review the bootstrapped range, by using `t_range = np.ptp(boot_se_samples)`."
   ]
  },
  {
   "cell_type": "markdown",
   "id": "e6cbde15",
   "metadata": {},
   "source": [
    "# Answer\n",
    "\n",
    "(vii)\n",
    "The bootstrapped mean is: 5.842284666666666, whereas the orginal mean is 5.843333333333334. The two means are very close. The difference is around 0.1% at 0.001048666666667586.\n",
    "The standard deviation of the bootstrapped samples is: 0.06649295592099295."
   ]
  },
  {
   "cell_type": "code",
   "execution_count": 108,
   "id": "7686243c",
   "metadata": {},
   "outputs": [
    {
     "data": {
      "text/plain": [
       "0      5.1\n",
       "1      4.9\n",
       "2      4.7\n",
       "3      4.6\n",
       "4      5.0\n",
       "      ... \n",
       "145    6.7\n",
       "146    6.3\n",
       "147    6.5\n",
       "148    6.2\n",
       "149    5.9\n",
       "Name: Sepal.Length, Length: 150, dtype: float64"
      ]
     },
     "execution_count": 108,
     "metadata": {},
     "output_type": "execute_result"
    }
   ],
   "source": [
    "# Add your code here\n",
    "\n",
    "# Step 1: Create a DataFrame\n",
    "data= df.loc[:, 'Sepal.Length']\n",
    "df_samples=pd.DataFrame(data)\n",
    "\n",
    "\n",
    "df_samples.loc[:,'Sepal.Length']"
   ]
  },
  {
   "cell_type": "code",
   "execution_count": 83,
   "id": "7f888815",
   "metadata": {},
   "outputs": [],
   "source": [
    "# Step 2: Define the number of bootstrap samples and sample size\n",
    "\n",
    "B = 1000  # Number of bootstrap samples\n",
    "n = len(df_samples)  # Size of each sample, also n = df_samples.shape[0]\n",
    "\n"
   ]
  },
  {
   "cell_type": "code",
   "execution_count": 109,
   "id": "1217f2ce",
   "metadata": {},
   "outputs": [],
   "source": [
    "# Step 3: Define the function to generate the bootstrapped samples\n",
    "\n",
    "def boot_se_samples(df_samples, B=1000, seed=0):\n",
    "    rng = np.random.default_rng(seed)\n",
    "    bootstrap_values_samples = []  # Define within function to avoid global scope\n",
    "    n = df_samples.shape[0]\n",
    "    \n",
    "    for i in range(B):\n",
    "        idx = rng.choice(df_samples.index, n, replace=True)\n",
    "        value = alpha_func_samples(df_samples, idx)\n",
    "        bootstrap_values_samples.append(value)\n",
    "        \n",
    "    return np.array(bootstrap_values_samples)\n",
    "  \n",
    "# Example usage of boot_SE function\n",
    "\n",
    "# Define alpha_func_samples\n",
    "def alpha_func_samples(df, idx):\n",
    "    # Example alpha_func implementation: mean of a specific column\n",
    "    return df_samples.loc[idx, 'Sepal.Length'].mean()"
   ]
  },
  {
   "cell_type": "code",
   "execution_count": 111,
   "id": "994862e2",
   "metadata": {},
   "outputs": [
    {
     "name": "stdout",
     "output_type": "stream",
     "text": [
      "[5.90933333 5.86866667 5.81133333 5.90933333 5.82533333 5.91866667\n",
      " 5.80466667 5.728      5.88333333 5.942      5.776      5.82066667\n",
      " 5.878      5.76133333 5.88733333 5.994      5.858      5.76866667\n",
      " 5.964      5.88133333 5.878      5.84933333 5.80333333 5.958\n",
      " 5.806      5.794      5.774      5.76666667 5.86066667 5.772\n",
      " 5.83466667 5.89       5.82466667 5.882      5.89533333 5.71866667\n",
      " 5.75466667 5.806      5.98933333 5.81666667 5.81133333 5.77666667\n",
      " 5.79066667 5.81466667 5.878      5.76733333 5.904      5.826\n",
      " 5.82666667 5.866      5.76866667 5.78066667 6.016      5.92933333\n",
      " 5.978      5.80266667 5.78533333 5.814      5.776      5.824\n",
      " 5.92733333 5.908      5.72333333 5.94933333 5.924      5.74066667\n",
      " 5.836      5.87733333 5.86333333 5.81       5.966      5.78866667\n",
      " 5.93533333 5.81666667 5.76066667 5.84666667 5.85333333 5.82\n",
      " 5.87866667 5.858      5.79466667 5.95       5.81666667 5.832\n",
      " 5.848      5.82466667 5.84666667 5.76066667 5.87133333 5.79333333\n",
      " 5.81       5.816      5.86533333 5.744      5.86533333 5.896\n",
      " 5.73       5.87533333 5.75       5.854      5.88666667 5.80466667\n",
      " 5.83066667 5.90133333 5.79333333 5.904      5.83733333 5.792\n",
      " 5.764      5.87       5.81466667 5.83533333 5.87533333 5.822\n",
      " 6.00666667 5.76       5.76666667 5.85266667 5.856      5.85066667\n",
      " 5.896      5.81533333 5.844      5.77133333 5.712      5.764\n",
      " 5.81533333 5.82466667 5.87066667 5.73066667 5.79666667 5.74466667\n",
      " 5.788      5.87933333 5.764      5.91933333 5.77933333 5.80066667\n",
      " 5.94733333 5.80933333 5.79133333 5.802      5.802      5.958\n",
      " 5.79866667 5.91733333 5.86866667 5.736      5.79066667 5.848\n",
      " 5.94066667 5.692      5.77133333 5.80133333 5.62933333 5.78266667\n",
      " 5.822      5.85933333 5.89066667 5.77133333 5.712      5.83533333\n",
      " 5.94066667 5.86666667 5.814      5.93133333 5.83933333 5.85133333\n",
      " 5.86866667 5.82266667 5.818      5.844      5.78733333 5.81133333\n",
      " 5.77133333 5.876      5.80733333 5.788      5.77733333 5.85\n",
      " 5.728      5.75933333 5.79133333 5.80266667 5.76333333 5.924\n",
      " 5.86       5.81066667 5.85733333 5.84866667 5.85466667 5.88533333\n",
      " 5.81066667 5.90266667 5.81       5.876      5.85466667 5.75266667\n",
      " 5.888      5.79133333 5.844      5.748      5.73666667 5.86466667\n",
      " 5.77466667 5.84266667 5.92533333 5.78933333 5.71666667 5.81866667\n",
      " 5.788      5.81533333 5.90666667 5.89066667 5.73466667 5.68466667\n",
      " 6.01666667 5.83266667 5.68266667 5.89133333 5.89533333 5.904\n",
      " 5.934      5.88533333 5.918      5.67733333 5.73466667 5.76133333\n",
      " 5.85533333 5.742      5.84066667 5.72866667 5.78       5.84666667\n",
      " 5.88866667 5.78       5.86733333 5.85666667 5.808      5.90333333\n",
      " 5.78933333 5.868      5.88133333 5.87666667 5.86533333 5.77133333\n",
      " 5.87133333 5.86066667 5.83733333 5.956      5.76333333 5.90933333\n",
      " 5.79266667 5.96       5.83133333 5.82266667 5.87266667 5.91266667\n",
      " 5.77       5.78333333 5.92       5.788      5.99466667 5.834\n",
      " 5.836      5.81933333 5.87533333 5.83466667 5.79933333 5.88133333\n",
      " 5.92       5.944      5.878      5.898      5.87333333 5.892\n",
      " 5.95133333 5.90666667 5.88666667 5.88       5.68666667 5.82733333\n",
      " 5.76266667 5.90733333 5.848      5.77866667 5.908      5.84933333\n",
      " 5.77       5.796      5.82666667 5.88666667 5.81066667 5.81066667\n",
      " 5.77133333 5.78066667 5.76666667 5.96866667 5.73866667 5.752\n",
      " 5.83       5.89733333 5.92933333 5.81       5.86       5.96266667\n",
      " 5.72066667 5.72466667 5.91933333 5.83066667 5.89       5.85466667\n",
      " 5.826      5.95266667 5.81333333 5.82866667 5.78733333 5.926\n",
      " 5.89266667 6.01533333 5.79533333 5.756      5.918      5.87066667\n",
      " 5.98666667 5.90333333 5.80333333 5.71666667 5.79866667 5.82466667\n",
      " 5.828      5.84933333 5.89133333 5.85333333 5.71133333 5.93066667\n",
      " 5.93466667 5.75733333 5.88133333 5.738      5.86666667 5.97933333\n",
      " 5.772      5.814      5.73666667 5.82333333 5.79       5.90533333\n",
      " 5.97066667 5.88266667 5.836      5.98733333 5.86       5.89133333\n",
      " 5.69466667 5.77266667 5.89733333 5.91733333 5.9        5.85866667\n",
      " 5.85733333 5.76133333 5.802      5.81133333 5.834      5.92266667\n",
      " 5.848      5.96466667 5.90666667 5.84266667 5.944      5.97\n",
      " 5.95933333 5.78533333 5.83266667 5.85533333 5.75133333 5.75266667\n",
      " 5.802      5.858      5.81466667 5.97866667 5.81933333 5.80333333\n",
      " 5.83       5.94133333 5.79       5.922      5.892      5.78333333\n",
      " 5.874      5.73066667 5.884      5.83866667 5.788      5.81733333\n",
      " 5.90133333 5.85066667 5.80866667 5.90933333 5.812      5.702\n",
      " 5.786      5.882      5.716      5.90933333 5.96533333 5.906\n",
      " 5.82666667 5.74066667 5.79733333 5.89533333 5.88533333 5.73466667\n",
      " 5.80466667 5.90266667 5.87866667 5.89333333 5.894      5.81933333\n",
      " 5.792      5.84133333 5.77466667 5.95266667 5.77066667 5.836\n",
      " 5.886      5.79266667 5.83733333 5.87133333 5.852      5.76266667\n",
      " 5.846      5.85666667 5.83       5.92333333 5.89       5.83333333\n",
      " 5.80666667 5.83866667 5.89066667 5.84133333 5.77933333 5.858\n",
      " 5.82       5.86133333 5.84133333 5.77866667 5.95666667 5.87266667\n",
      " 5.80333333 5.78733333 5.91066667 5.764      5.82933333 5.91933333\n",
      " 5.73933333 5.852      5.85333333 5.78466667 5.88733333 5.724\n",
      " 5.82666667 5.91266667 5.88733333 5.902      5.724      5.84733333\n",
      " 5.78933333 5.86933333 5.90666667 5.89       5.83533333 5.98666667\n",
      " 5.83266667 5.84066667 5.88933333 5.79066667 5.826      5.74133333\n",
      " 5.858      5.79866667 5.966      5.79733333 5.97066667 5.774\n",
      " 5.80266667 5.93066667 5.84733333 5.93333333 5.836      5.852\n",
      " 5.814      5.77466667 5.91466667 5.768      5.836      5.76133333\n",
      " 5.86933333 5.86       5.884      5.732      5.84       5.828\n",
      " 5.88933333 5.81866667 5.94733333 5.88733333 5.95       5.84333333\n",
      " 5.916      5.81533333 5.95866667 5.864      5.864      5.89266667\n",
      " 5.84       5.83933333 5.78466667 5.936      5.83133333 5.842\n",
      " 5.83066667 5.87266667 5.84133333 5.92733333 5.73066667 5.89933333\n",
      " 5.79533333 5.86866667 5.768      5.886      5.85466667 5.868\n",
      " 5.80466667 5.84133333 5.91333333 5.74133333 5.95066667 5.90866667\n",
      " 5.89866667 5.88733333 5.78866667 5.86133333 5.85866667 5.75266667\n",
      " 5.80733333 5.83066667 5.77333333 5.946      5.95666667 5.932\n",
      " 5.78333333 5.84       5.862      5.742      5.84133333 5.87333333\n",
      " 5.768      5.87866667 5.744      5.89466667 5.89266667 5.89\n",
      " 5.77933333 5.96266667 5.84933333 5.97266667 5.944      5.78333333\n",
      " 5.878      5.82933333 5.81666667 5.792      5.73333333 5.80533333\n",
      " 5.82       5.75066667 5.91666667 5.82333333 5.74533333 5.87066667\n",
      " 5.962      5.81666667 5.87733333 5.88533333 5.79333333 5.80533333\n",
      " 5.844      5.69533333 5.85133333 5.77266667 5.71266667 5.74333333\n",
      " 5.90866667 5.73066667 5.75333333 5.862      5.782      5.814\n",
      " 5.846      5.788      5.754      5.906      5.73933333 5.91933333\n",
      " 5.776      5.81466667 5.864      5.764      5.816      5.96333333\n",
      " 5.77733333 5.83333333 5.74066667 5.71133333 5.804      5.82866667\n",
      " 5.83333333 5.69666667 5.88466667 5.84066667 5.908      5.79066667\n",
      " 5.86133333 5.828      5.96066667 5.814      5.732      5.874\n",
      " 5.834      5.776      5.894      5.95533333 5.878      5.90333333\n",
      " 5.81266667 5.71066667 5.85866667 5.80933333 5.736      5.76733333\n",
      " 5.85733333 5.77       5.86666667 5.84933333 5.98066667 5.76666667\n",
      " 5.842      5.83733333 5.76533333 5.85733333 5.912      5.81866667\n",
      " 5.878      5.88466667 5.84266667 5.93533333 5.786      5.86133333\n",
      " 5.878      5.87533333 5.98733333 5.89533333 5.852      5.96066667\n",
      " 5.85133333 5.892      5.91666667 5.826      5.832      5.88333333\n",
      " 5.94466667 5.90533333 5.99133333 5.866      5.87333333 5.82066667\n",
      " 5.9        5.844      5.89533333 5.89466667 5.85       5.83733333\n",
      " 5.84533333 5.79466667 5.84666667 5.832      5.864      5.74133333\n",
      " 5.792      5.91466667 5.88       5.72933333 5.88333333 5.89733333\n",
      " 5.848      5.69666667 5.94466667 5.84733333 5.836      5.832\n",
      " 5.89266667 6.01       5.822      5.79133333 5.86733333 5.94333333\n",
      " 5.83066667 5.96866667 5.85933333 5.92466667 5.78466667 5.71666667\n",
      " 5.91066667 5.71266667 5.87133333 5.778      5.85733333 5.744\n",
      " 5.76533333 5.95533333 5.852      5.79066667 5.814      5.82533333\n",
      " 5.79466667 5.89533333 5.85933333 5.89466667 5.774      5.76666667\n",
      " 5.90466667 5.82133333 5.822      5.84133333 5.78733333 5.892\n",
      " 5.928      5.86533333 5.87533333 5.85466667 5.83733333 5.788\n",
      " 5.78866667 5.754      5.82466667 5.85866667 5.78       5.814\n",
      " 5.86       5.81666667 5.81666667 5.90933333 5.80733333 5.91733333\n",
      " 5.83       5.84066667 5.804      5.80866667 5.874      5.79133333\n",
      " 5.918      5.804      5.76866667 5.75266667 5.874      5.85133333\n",
      " 5.892      5.81466667 5.87266667 5.86733333 5.89933333 5.84333333\n",
      " 5.90466667 5.79933333 5.91533333 5.75666667 5.74666667 5.84666667\n",
      " 5.884      5.928      5.74733333 5.92133333 5.82933333 5.73133333\n",
      " 5.90266667 5.79333333 5.954      5.75533333 5.92933333 5.846\n",
      " 5.79866667 5.91333333 5.82666667 5.79066667 5.922      5.77066667\n",
      " 5.74666667 5.872      5.95066667 5.876      5.806      5.74866667\n",
      " 5.87066667 5.756      5.83466667 5.76266667 5.83466667 5.83933333\n",
      " 5.91133333 5.86733333 5.91666667 5.90133333 5.736      5.938\n",
      " 5.74533333 5.83266667 5.84733333 5.704      5.83466667 5.85066667\n",
      " 5.968      5.862      5.97666667 5.966      5.75866667 5.80933333\n",
      " 5.81866667 5.72133333 5.834      5.85466667 5.80333333 5.938\n",
      " 5.804      5.83266667 5.75666667 5.79266667 5.802      5.73066667\n",
      " 5.81066667 5.87133333 5.96733333 5.878      5.77466667 5.75933333\n",
      " 5.78533333 5.8        5.86133333 5.83       5.78866667 5.93133333\n",
      " 5.86733333 5.85933333 5.828      5.99666667 5.768      5.86866667\n",
      " 5.918      5.85066667 5.77933333 5.78       5.94466667 5.79733333\n",
      " 5.894      5.98       5.70066667 5.82066667 5.91       5.89333333\n",
      " 5.896      5.80866667 5.86666667 5.89133333 5.93066667 5.81466667\n",
      " 5.956      5.842      5.80866667 5.802      5.904      5.84133333\n",
      " 5.89533333 5.762      5.83666667 5.89       5.82       5.84333333\n",
      " 5.86733333 5.862      5.86066667 5.836      5.77866667 5.85466667\n",
      " 5.79666667 5.77866667 5.962      5.80533333 5.81933333 5.83\n",
      " 5.808      5.93066667 5.83866667 5.82933333 5.822      5.922\n",
      " 5.77333333 5.85733333 5.74466667 5.874      5.95933333 5.85666667\n",
      " 5.80333333 5.88333333 5.80533333 5.82133333 5.81866667 5.78066667\n",
      " 5.78333333 5.80733333 5.73       5.89466667 5.95866667 5.92066667\n",
      " 5.818      5.82866667 5.858      5.85333333 5.85266667 5.78466667\n",
      " 5.88       5.82066667 5.97466667 5.74733333 5.898      5.81\n",
      " 5.73266667 5.836      5.936      5.984      5.75333333 5.89933333\n",
      " 5.89666667 5.858      5.97933333 5.95       5.83733333 5.806\n",
      " 5.896      5.90933333 5.882      5.844      5.82333333 5.912\n",
      " 5.89866667 5.86933333 5.91733333 5.752      5.904      5.90666667\n",
      " 5.89666667 5.794      5.84533333 5.92533333 5.78933333 5.89066667\n",
      " 5.88266667 5.81933333 5.884      5.85533333 5.82066667 5.72133333\n",
      " 5.954      5.78       5.78533333 5.824      5.78666667 5.83466667\n",
      " 5.86066667 5.84266667 5.75266667 5.99733333 5.85133333 5.90266667\n",
      " 5.854      5.97733333 5.77133333 5.844      5.77666667 5.852\n",
      " 5.87266667 5.76866667 5.82       5.97666667 5.758      5.842\n",
      " 5.714      5.83133333 5.88333333 5.936     ]\n"
     ]
    }
   ],
   "source": [
    "se_samples = boot_se_samples(df_samples)\n",
    "print(se_samples)"
   ]
  },
  {
   "cell_type": "code",
   "execution_count": 117,
   "id": "5dd975ce",
   "metadata": {},
   "outputs": [
    {
     "name": "stdout",
     "output_type": "stream",
     "text": [
      "Bootstrapped Mean: 5.842284666666666\n"
     ]
    }
   ],
   "source": [
    "# print mean of the bootstrapped mean of Sepal.Length values\n",
    "\n",
    "mean = np.mean(boot_se_samples(df_samples))\n",
    "print(f\"Bootstrapped Mean: {mean}\")"
   ]
  },
  {
   "cell_type": "code",
   "execution_count": 113,
   "id": "bd10251b",
   "metadata": {},
   "outputs": [
    {
     "name": "stdout",
     "output_type": "stream",
     "text": [
      "Bootstrapped Standard Error: 0.06649295592099295\n"
     ]
    }
   ],
   "source": [
    "# print standard deviation of the bootstrapped mean of Sepal.Length values\n",
    "\n",
    "se = np.std(boot_se_samples(df_samples))\n",
    "print(f\"Bootstrapped Standard Error: {se}\")"
   ]
  },
  {
   "cell_type": "code",
   "execution_count": 114,
   "metadata": {},
   "outputs": [
    {
     "name": "stdout",
     "output_type": "stream",
     "text": [
      "0.001048666666667586\n"
     ]
    }
   ],
   "source": [
    "# compare the original mean value with the mean of the bootstrapped mean of Sepal.Length\n",
    "diff = df.loc[:, 'Sepal.Length'].mean() - mean\n",
    "\n",
    "print (diff)"
   ]
  },
  {
   "cell_type": "code",
   "execution_count": 118,
   "id": "377127e0",
   "metadata": {},
   "outputs": [
    {
     "data": {
      "text/plain": [
       "0.3873333333333342"
      ]
     },
     "execution_count": 118,
     "metadata": {},
     "output_type": "execute_result"
    }
   ],
   "source": [
    "t_range = np.ptp(boot_se_samples(df_samples))\n",
    "\n",
    "t_range"
   ]
  },
  {
   "cell_type": "markdown",
   "id": "66c6c663-f3bb-4a15-8896-6dccfb7259fd",
   "metadata": {},
   "source": [
    "_(viii)_ Next, let's compute 95% confidence intervals, for the mean value of iris sepal length. (Hint: use the `np.percentile` function)"
   ]
  },
  {
   "cell_type": "markdown",
   "id": "e9c2ee76",
   "metadata": {},
   "source": [
    "# Answer\n",
    "\n",
    "The 95% confidence interval for mean value of the iris sepal length is between 5.71861667 and 5.97471667."
   ]
  },
  {
   "cell_type": "code",
   "execution_count": 119,
   "id": "74de4a76-e500-4c93-82a9-e7365cc86c91",
   "metadata": {},
   "outputs": [
    {
     "data": {
      "text/plain": [
       "array([5.71861667, 5.97471667])"
      ]
     },
     "execution_count": 119,
     "metadata": {},
     "output_type": "execute_result"
    }
   ],
   "source": [
    "# Add your code here\n",
    "\n",
    "np.percentile(boot_se_samples(df_samples),[2.5, 97.5])\n",
    "\n"
   ]
  },
  {
   "cell_type": "markdown",
   "id": "488e54f7-ebe4-4740-835c-9832320005d0",
   "metadata": {},
   "source": [
    "_(ix)_. Use the plot function to create an histogram of the bootstrapped samples. What does this histogram show ?\n",
    "#### After clarification, exercise (ix) is to create an histogram of the bootstrapped samples mean, instead of the whole data points of the 1000 resampling of 150 data points.\n"
   ]
  },
  {
   "cell_type": "markdown",
   "id": "312bd82c",
   "metadata": {},
   "source": [
    "# Answer\n",
    "The histogram shows means of the 1000 times of resampling the mean value for 150 Sepal Length values in each data set.\n",
    "Most of the datapoints falls into the 95% confidence interval for the bootstrapped mean, between 5.72 and 5.97. The most frequent mean values are in the highest range of the bell shaped histogram, whereas the less likly mean values are in the lower ends of the histogram. The most frequent mean is in the bucket close to 5.85, this is similar to what we have calculated for bootstrapped mean: 5.84."
   ]
  },
  {
   "cell_type": "code",
   "execution_count": 120,
   "id": "4fca4e3f",
   "metadata": {},
   "outputs": [
    {
     "data": {
      "image/png": "[encoded data removed]",
      "text/plain": [
       "<Figure size 640x480 with 1 Axes>"
      ]
     },
     "metadata": {},
     "output_type": "display_data"
    }
   ],
   "source": [
    "### After clarification, exercise (ix) is to create an histogram of the bootstrapped samples mean, instead of the whole data points of of the 1000 resampling of 150 data points.\n",
    "\n",
    "# Create a figure and axis\n",
    "fig, ax = plt.subplots()\n",
    "\n",
    "\n",
    "# Create the histogram\n",
    "#Add your code here\n",
    "plt.hist(boot_se_samples(df_samples), bins=25, edgecolor='black', alpha=0.7)\n",
    "\n",
    "# Add a title\n",
    "#Add your code here\n",
    "plt.title('Histogram of Bootstrapped Samples')\n",
    "\n",
    "# Add a label to the x-axis\n",
    "#Add your code here\n",
    "plt.xlabel('Mean of Sepal Length')\n",
    "\n",
    "# Add a label to the y-axis\n",
    "#Add your code here\n",
    "plt.ylabel('Frequency')\n",
    "# Show the plot\n",
    "plt.show()"
   ]
  },
  {
   "cell_type": "markdown",
   "id": "bfa9a095-9c7a-4ab5-aa99-b11bf419fae0",
   "metadata": {},
   "source": [
    "_(x)_ Given your bootstrapped analysis, what do you recommend to shipping company? "
   ]
  },
  {
   "cell_type": "markdown",
   "id": "eca95ed0",
   "metadata": {},
   "source": [
    "# Write your answer here\n",
    "\n",
    "We can inform the shipping company about the average of sepal length that 95% confidence interval of the bootstrapped mean for sepal length is between 5.72 and 5.97, meaning 95% of flowers' sepal length should fall into the range of 5.72 and 5.97."
   ]
  },
  {
   "cell_type": "markdown",
   "id": "466943e8",
   "metadata": {},
   "source": [
    "# Criteria\n",
    "\n",
    "|Criteria            |Complete           |Incomplete          |\n",
    "|--------------------|---------------|--------------|\n",
    "|Bootstrapping|All steps are done correctly and the answers are correct.|At least one step is done incorrectly leading to a wrong answer.|"
   ]
  },
  {
   "cell_type": "markdown",
   "id": "68b8a226",
   "metadata": {},
   "source": [
    "## Submission Information\n",
    "\n",
    "🚨 **Please review our [Assignment Submission Guide](https://github.com/UofT-DSI/onboarding/blob/main/onboarding_documents/submissions.md)** 🚨 for detailed instructions on how to format, branch, and submit your work. Following these guidelines is crucial for your submissions to be evaluated correctly.\n",
    "\n",
    "### Note:\n",
    "\n",
    "If you like, you may collaborate with others in the cohort. If you choose to do so, please indicate with whom you have worked with in your pull request by tagging their GitHub username. Separate submissions are required.\n",
    "\n",
    "\n",
    "### Submission Parameters:\n",
    "* Submission Due Date: `HH:MM AM/PM - DD/MM/YYYY`\n",
    "* The branch name for your repo should be: `assignment-3`\n",
    "* What to submit for this assignment:\n",
    "    * This Jupyter Notebook (assignment_3.ipynb) should be populated and should be the only change in your pull request.\n",
    "* What the pull request link should look like for this assignment: `https://github.com/<your_github_username>/applying_statistical_concepts/pull/<pr_id>`\n",
    "    * Open a private window in your browser. Copy and paste the link to your pull request into the address bar. Make sure you can see your pull request properly. This helps the technical facilitator and learning support staff review your submission easily.\n",
    "\n",
    "Checklist:\n",
    "- [ ] Created a branch with the correct naming convention.\n",
    "- [ ] Ensured that the repository is public.\n",
    "- [ ] Reviewed the PR description guidelines and adhered to them.\n",
    "- [ ] Verify that the link is accessible in a private browser window.\n",
    "\n",
    "If you encounter any difficulties or have questions, please don't hesitate to reach out to our team via our Slack at `#cohort-3-help`. Our Technical Facilitators and Learning Support staff are here to help you navigate any challenges.\n"
   ]
  }
 ],
 "metadata": {
  "kernelspec": {
   "display_name": "Python 3.10.4",
   "language": "python",
   "name": "python3"
  },
  "language_info": {
   "codemirror_mode": {
    "name": "ipython",
    "version": 3
   },
   "file_extension": ".py",
   "mimetype": "text/x-python",
   "name": "python",
   "nbconvert_exporter": "python",
   "pygments_lexer": "ipython3",
   "version": "3.9.15"
  },
  "vscode": {
   "interpreter": {
    "hash": "497a84dc8fec8cf8d24e7e87b6d954c9a18a327edc66feb9b9ea7e9e72cc5c7e"
   }
  }
 },
 "nbformat": 4,
 "nbformat_minor": 5
}
